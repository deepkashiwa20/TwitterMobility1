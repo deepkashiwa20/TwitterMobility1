{
 "cells": [
  {
   "cell_type": "code",
   "execution_count": 1,
   "id": "375ab0d1-cbec-4c7e-bfa1-e4af70572bad",
   "metadata": {},
   "outputs": [
    {
     "ename": "ModuleNotFoundError",
     "evalue": "No module named 'model'",
     "output_type": "error",
     "traceback": [
      "\u001b[0;31m---------------------------------------------------------------------------\u001b[0m",
      "\u001b[0;31mModuleNotFoundError\u001b[0m                       Traceback (most recent call last)",
      "\u001b[0;32m<ipython-input-1-1ebd4cd42bc8>\u001b[0m in \u001b[0;36m<module>\u001b[0;34m\u001b[0m\n\u001b[1;32m      3\u001b[0m \u001b[0;32mimport\u001b[0m \u001b[0mmatplotlib\u001b[0m\u001b[0;34m.\u001b[0m\u001b[0mpyplot\u001b[0m \u001b[0;32mas\u001b[0m \u001b[0mplt\u001b[0m\u001b[0;34m\u001b[0m\u001b[0;34m\u001b[0m\u001b[0m\n\u001b[1;32m      4\u001b[0m \u001b[0;32mfrom\u001b[0m \u001b[0mconfigparser\u001b[0m \u001b[0;32mimport\u001b[0m \u001b[0mConfigParser\u001b[0m\u001b[0;34m\u001b[0m\u001b[0;34m\u001b[0m\u001b[0m\n\u001b[0;32m----> 5\u001b[0;31m \u001b[0;32mfrom\u001b[0m \u001b[0mmodel\u001b[0m\u001b[0;34m.\u001b[0m\u001b[0mUtils\u001b[0m \u001b[0;32mimport\u001b[0m \u001b[0;34m*\u001b[0m\u001b[0;34m\u001b[0m\u001b[0;34m\u001b[0m\u001b[0m\n\u001b[0m",
      "\u001b[0;31mModuleNotFoundError\u001b[0m: No module named 'model'"
     ]
    }
   ],
   "source": [
    "import numpy as np\n",
    "import pandas as pd\n",
    "import matplotlib.pyplot as plt\n",
    "from configparser import ConfigParser\n",
    "from Utils import *"
   ]
  },
  {
   "cell_type": "code",
   "execution_count": null,
   "id": "5d7cd32b-e3ba-4a1c-b12b-c12b7520895f",
   "metadata": {},
   "outputs": [],
   "source": [
    "!cat './params.txt'"
   ]
  },
  {
   "cell_type": "code",
   "execution_count": null,
   "id": "b155c16e-c2d5-4872-b695-7bad46299a86",
   "metadata": {},
   "outputs": [],
   "source": [
    "config = ConfigParser()\n",
    "\n",
    "config.read('./params.txt', encoding='UTF-8')"
   ]
  },
  {
   "cell_type": "code",
   "execution_count": null,
   "id": "cea4e668-cff7-4bfc-a685-37ac567300fe",
   "metadata": {},
   "outputs": [],
   "source": [
    "config = ConfigParser()\n",
    "\n",
    "config.read('params.txt', encoding='UTF-8')\n",
    "exp = 'typhoon-inflow'\n",
    "channel = config.getint(exp, 'channel')\n",
    "event = config[exp]['event']\n",
    "flow_type = config[exp]['flow_type']\n",
    "flow_type = config[exp]['flow_type']\n",
    "flow_path = config[exp]['flow_path']\n",
    "adj_path = config[exp]['adj_path']\n",
    "twitter_path = config[exp]['twitter_path']\n",
    "pref_path = config[exp]['pref_path']\n",
    "freq = config[exp]['freq']\n",
    "flow_start_date = config[exp]['flow_start_date']\n",
    "flow_end_date = config[exp]['flow_end_date']\n",
    "twitter_start_date = config[exp]['twitter_start_date']\n",
    "twitter_end_date = config[exp]['twitter_end_date']\n",
    "target_start_date = config[exp]['target_start_date']\n",
    "target_end_date = config[exp]['target_end_date']\n",
    "target_area = eval(config[exp]['target_area'])\n",
    "num_variable = len(target_area)"
   ]
  },
  {
   "cell_type": "code",
   "execution_count": null,
   "id": "05c66cdd-f4ea-420e-9456-aca71b490469",
   "metadata": {},
   "outputs": [],
   "source": [
    "flow_all_times = [date.strftime('%Y-%m-%d %H:%M:%S') for date in pd.date_range(start=flow_start_date, end=flow_end_date, freq=freq)]\n",
    "start_index, end_index = flow_all_times.index(target_start_date), flow_all_times.index(target_end_date)\n",
    "area_index = get_pref_id(pref_path, target_area)\n",
    "flow = get_flow(flow_type, flow_path, start_index, end_index, area_index)"
   ]
  },
  {
   "cell_type": "code",
   "execution_count": null,
   "id": "46c6afc5-5da3-4918-a74e-0b89eea7ddb0",
   "metadata": {},
   "outputs": [],
   "source": []
  }
 ],
 "metadata": {
  "kernelspec": {
   "display_name": "Python 3",
   "language": "python",
   "name": "python3"
  },
  "language_info": {
   "codemirror_mode": {
    "name": "ipython",
    "version": 3
   },
   "file_extension": ".py",
   "mimetype": "text/x-python",
   "name": "python",
   "nbconvert_exporter": "python",
   "pygments_lexer": "ipython3",
   "version": "3.8.8"
  }
 },
 "nbformat": 4,
 "nbformat_minor": 5
}
