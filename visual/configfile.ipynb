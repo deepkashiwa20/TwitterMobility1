{
 "cells": [
  {
   "cell_type": "code",
   "execution_count": 6,
   "id": "375ab0d1-cbec-4c7e-bfa1-e4af70572bad",
   "metadata": {},
   "outputs": [],
   "source": [
    "import numpy as np\n",
    "import pandas as pd\n",
    "import matplotlib.pyplot as plt\n",
    "from configparser import ConfigParser\n",
    "from Utils import *"
   ]
  },
  {
   "cell_type": "code",
   "execution_count": 11,
   "id": "cea4e668-cff7-4bfc-a685-37ac567300fe",
   "metadata": {},
   "outputs": [],
   "source": [
    "config = ConfigParser()\n",
    "config.read('params.txt', encoding='UTF-8')\n",
    "exp = 'covid-inflow'\n",
    "channel = config.getint(exp, 'channel')\n",
    "event = config[exp]['event']\n",
    "flow_type = config[exp]['flow_type']\n",
    "flow_type = config[exp]['flow_type']\n",
    "flow_path = config[exp]['flow_path']\n",
    "adj_path = config[exp]['adj_path']\n",
    "twitter_path = config[exp]['twitter_path']\n",
    "pref_path = config[exp]['pref_path']\n",
    "freq = config[exp]['freq']\n",
    "flow_start_date = config[exp]['flow_start_date']\n",
    "flow_end_date = config[exp]['flow_end_date']\n",
    "twitter_start_date = config[exp]['twitter_start_date']\n",
    "twitter_end_date = config[exp]['twitter_end_date']\n",
    "target_start_date = config[exp]['target_start_date']\n",
    "target_end_date = config[exp]['target_end_date']\n",
    "target_area = eval(config[exp]['target_area'])\n",
    "num_variable = len(target_area)"
   ]
  },
  {
   "cell_type": "code",
   "execution_count": 12,
   "id": "05c66cdd-f4ea-420e-9456-aca71b490469",
   "metadata": {},
   "outputs": [],
   "source": [
    "flow_all_times = [date.strftime('%Y-%m-%d %H:%M:%S') for date in pd.date_range(start=flow_start_date, end=flow_end_date, freq=freq)]\n",
    "start_index, end_index = flow_all_times.index(target_start_date), flow_all_times.index(target_end_date)\n",
    "area_index = get_pref_id(pref_path, target_area)\n",
    "flow = get_flow(flow_type, flow_path, start_index, end_index, area_index)"
   ]
  },
  {
   "cell_type": "code",
   "execution_count": 13,
   "id": "46c6afc5-5da3-4918-a74e-0b89eea7ddb0",
   "metadata": {},
   "outputs": [
    {
     "data": {
      "text/plain": [
       "366"
      ]
     },
     "execution_count": 13,
     "metadata": {},
     "output_type": "execute_result"
    }
   ],
   "source": [
    "flow.shape[0]//24"
   ]
  }
 ],
 "metadata": {
  "kernelspec": {
   "display_name": "Python 3",
   "language": "python",
   "name": "python3"
  },
  "language_info": {
   "codemirror_mode": {
    "name": "ipython",
    "version": 3
   },
   "file_extension": ".py",
   "mimetype": "text/x-python",
   "name": "python",
   "nbconvert_exporter": "python",
   "pygments_lexer": "ipython3",
   "version": "3.8.8"
  }
 },
 "nbformat": 4,
 "nbformat_minor": 5
}
