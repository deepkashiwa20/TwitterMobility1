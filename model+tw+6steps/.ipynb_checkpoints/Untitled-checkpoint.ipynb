{
 "cells": [
  {
   "cell_type": "code",
   "execution_count": null,
   "id": "18e0bccb-bcc2-43e6-b14f-fa1dab4e9a28",
   "metadata": {},
   "outputs": [],
   "source": [
    "def get_onehottime(his_len, seq_len):\n",
    "    df = pd.DataFrame({'step': np.arange()})\n",
    "    df['dayofweek'] = df.time.dt.weekday\n",
    "    df['hourofday'] = df.time.dt.hour\n",
    "    df['isholiday'] = df.apply(lambda x: int(jpholiday.is_holiday(x.time) | (x.dayofweek==5) | (x.dayofweek==6)), axis=1)\n",
    "    tmp1 = pd.get_dummies(df.dayofweek)\n",
    "    tmp2 = pd.get_dummies(df.hourofday)\n",
    "    tmp3 = df[['isholiday']]\n",
    "    df_dummy = pd.concat([tmp1, tmp2, tmp3], axis=1)\n",
    "    return df_dummy.values"
   ]
  }
 ],
 "metadata": {
  "kernelspec": {
   "display_name": "Python 3",
   "language": "python",
   "name": "python3"
  },
  "language_info": {
   "name": ""
  }
 },
 "nbformat": 4,
 "nbformat_minor": 5
}
